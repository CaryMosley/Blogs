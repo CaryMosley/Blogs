{
 "cells": [
  {
   "cell_type": "code",
   "execution_count": 2,
   "metadata": {},
   "outputs": [],
   "source": [
    "import pandas as pd\n",
    "import numpy as np\n",
    "import re\n",
    "import seaborn as sns\n",
    "import matplotlib.pyplot as plt\n",
    "\n"
   ]
  },
  {
   "cell_type": "markdown",
   "metadata": {},
   "source": [
    "This code reads in the csv file. I then looked at the most common similar titles and relabeled the ones that made sense. Ideally I'd send in a dictionary and change anything with those terms but I ran out of time. This also creates a new column labeled year from the date published so I can group by that later"
   ]
  },
  {
   "cell_type": "code",
   "execution_count": 4,
   "metadata": {},
   "outputs": [],
   "source": [
    "df = pd.read_csv('DrugData.csv')\n",
    "df= df.dropna(subset = ['Sold As'])\n",
    "df['Sold As'] = df['Sold As'].apply(lambda x: x.replace('MDMA / Ecstasy','MDMA'))\n",
    "df['Sold As'] = df['Sold As'].apply(lambda x: x.replace('Molly / Ecstasy','MDMA'))\n",
    "df['Sold As'] = df['Sold As'].apply(lambda x: x.replace('Molly','MDMA'))\n",
    "df['Sold As'] = df['Sold As'].apply(lambda x: x.replace('Ecstasy','MDMA'))\n",
    "df['Sold As'] = df['Sold As'].apply(lambda x: x.replace('MDMA / MDMA','MDMA'))\n",
    "df['Year']=df['Date Published'].apply(lambda x: x[-4:])"
   ]
  },
  {
   "cell_type": "code",
   "execution_count": 5,
   "metadata": {},
   "outputs": [],
   "source": [
    "df['Year'] = df['Year'].astype(int)"
   ]
  },
  {
   "cell_type": "markdown",
   "metadata": {},
   "source": [
    "Looking at the column labels"
   ]
  },
  {
   "cell_type": "code",
   "execution_count": 6,
   "metadata": {},
   "outputs": [
    {
     "data": {
      "text/plain": [
       "MDMA                                     2557\n",
       "Not Specified                             193\n",
       "LSD                                       188\n",
       "Cocaine                                    90\n",
       "Alprazolam                                 86\n",
       "                                         ... \n",
       "3F-A-PVP                                    1\n",
       "ketamine                                    1\n",
       "325mg Acetaminophen, 10mg Hydrocodone       1\n",
       "alphaPHP                                    1\n",
       "Roxicodone                                  1\n",
       "Name: Sold As, Length: 535, dtype: int64"
      ]
     },
     "execution_count": 6,
     "metadata": {},
     "output_type": "execute_result"
    }
   ],
   "source": [
    "df['Sold As'].value_counts()"
   ]
  },
  {
   "cell_type": "markdown",
   "metadata": {},
   "source": [
    "Creating seperate data frames in case I want to do various slices on different substances"
   ]
  },
  {
   "cell_type": "code",
   "execution_count": 6,
   "metadata": {},
   "outputs": [],
   "source": [
    "df_MDMA = df.loc[df['Sold As']=='MDMA']\n",
    "df_LSD = df.loc[df['Sold As']=='LSD']\n",
    "df_Cocaine = df.loc[df['Sold As']=='Cocaine']"
   ]
  },
  {
   "cell_type": "code",
   "execution_count": 7,
   "metadata": {},
   "outputs": [
    {
     "data": {
      "text/plain": [
       "(2557, 9)"
      ]
     },
     "execution_count": 7,
     "metadata": {},
     "output_type": "execute_result"
    }
   ],
   "source": [
    "df_MDMA.shape"
   ]
  },
  {
   "cell_type": "markdown",
   "metadata": {},
   "source": [
    "Creating the column to check wheter the substance is what it was supposed to be"
   ]
  },
  {
   "cell_type": "code",
   "execution_count": 8,
   "metadata": {},
   "outputs": [
    {
     "name": "stderr",
     "output_type": "stream",
     "text": [
      "/Users/carymosley/opt/anaconda3/lib/python3.7/site-packages/ipykernel_launcher.py:1: SettingWithCopyWarning: \n",
      "A value is trying to be set on a copy of a slice from a DataFrame.\n",
      "Try using .loc[row_indexer,col_indexer] = value instead\n",
      "\n",
      "See the caveats in the documentation: http://pandas.pydata.org/pandas-docs/stable/user_guide/indexing.html#returning-a-view-versus-a-copy\n",
      "  \"\"\"Entry point for launching an IPython kernel.\n",
      "/Users/carymosley/opt/anaconda3/lib/python3.7/site-packages/ipykernel_launcher.py:3: SettingWithCopyWarning: \n",
      "A value is trying to be set on a copy of a slice from a DataFrame.\n",
      "Try using .loc[row_indexer,col_indexer] = value instead\n",
      "\n",
      "See the caveats in the documentation: http://pandas.pydata.org/pandas-docs/stable/user_guide/indexing.html#returning-a-view-versus-a-copy\n",
      "  This is separate from the ipykernel package so we can avoid doing imports until\n",
      "/Users/carymosley/opt/anaconda3/lib/python3.7/site-packages/ipykernel_launcher.py:4: SettingWithCopyWarning: \n",
      "A value is trying to be set on a copy of a slice from a DataFrame.\n",
      "Try using .loc[row_indexer,col_indexer] = value instead\n",
      "\n",
      "See the caveats in the documentation: http://pandas.pydata.org/pandas-docs/stable/user_guide/indexing.html#returning-a-view-versus-a-copy\n",
      "  after removing the cwd from sys.path.\n"
     ]
    }
   ],
   "source": [
    "df_MDMA['Match'] = np.where(df_MDMA['Sold As']==df_MDMA['Substance'], 'Yes', 'No')\n",
    "df['Match'] = np.where(df['Sold As']==df['Substance'], 'Yes', 'No')\n",
    "df_LSD['Match'] = np.where(df_LSD['Sold As']==df_LSD['Substance'], 'Yes', 'No')\n",
    "df_Cocaine['Match'] = np.where(df_Cocaine['Sold As']==df_Cocaine['Substance'], 'Yes', 'No')"
   ]
  },
  {
   "cell_type": "code",
   "execution_count": 9,
   "metadata": {},
   "outputs": [
    {
     "data": {
      "text/plain": [
       "Year  Match\n",
       "2014  No        13\n",
       "      Yes       10\n",
       "2015  Yes      146\n",
       "      No        90\n",
       "2016  Yes      226\n",
       "      No        80\n",
       "2017  Yes      422\n",
       "      No        80\n",
       "2018  Yes      601\n",
       "      No        92\n",
       "2019  Yes      603\n",
       "      No        65\n",
       "2020  Yes      122\n",
       "      No         7\n",
       "Name: Match, dtype: int64"
      ]
     },
     "execution_count": 9,
     "metadata": {},
     "output_type": "execute_result"
    }
   ],
   "source": [
    "df_MDMA['Match'].groupby(df_MDMA['Year']).value_counts()"
   ]
  },
  {
   "cell_type": "code",
   "execution_count": 10,
   "metadata": {},
   "outputs": [
    {
     "data": {
      "text/plain": [
       "Year  Match\n",
       "2015  Yes      15\n",
       "      No        5\n",
       "2016  Yes      24\n",
       "      No        9\n",
       "2017  Yes      16\n",
       "      No        8\n",
       "2018  Yes      30\n",
       "      No        7\n",
       "2019  Yes      53\n",
       "      No       12\n",
       "2020  No        6\n",
       "      Yes       3\n",
       "Name: Match, dtype: int64"
      ]
     },
     "execution_count": 10,
     "metadata": {},
     "output_type": "execute_result"
    }
   ],
   "source": [
    "df_LSD['Match'].groupby(df_LSD['Year']).value_counts()"
   ]
  },
  {
   "cell_type": "code",
   "execution_count": 11,
   "metadata": {},
   "outputs": [
    {
     "data": {
      "text/plain": [
       "Year  Match\n",
       "2010  Yes       1\n",
       "2012  Yes       1\n",
       "2015  Yes      13\n",
       "2016  Yes      11\n",
       "      No        1\n",
       "2017  Yes      12\n",
       "2018  Yes      25\n",
       "      No        3\n",
       "2019  Yes      14\n",
       "      No        2\n",
       "2020  Yes       7\n",
       "Name: Match, dtype: int64"
      ]
     },
     "execution_count": 11,
     "metadata": {},
     "output_type": "execute_result"
    }
   ],
   "source": [
    "df_Cocaine['Match'].groupby(df_Cocaine['Year']).value_counts()"
   ]
  },
  {
   "cell_type": "markdown",
   "metadata": {},
   "source": [
    "Making new dataframes with the match and then the percent. Stacking them after for graphing purposes"
   ]
  },
  {
   "cell_type": "code",
   "execution_count": 12,
   "metadata": {},
   "outputs": [],
   "source": [
    "data = df['Match'].groupby(df['Year']).value_counts().unstack()\n",
    "data_MDMA = df_MDMA['Match'].groupby(df_MDMA['Year']).value_counts().unstack()\n",
    "data_LSD = df_LSD['Match'].groupby(df_LSD['Year']).value_counts().unstack()\n",
    "data_Cocaine = df_Cocaine['Match'].groupby(df_Cocaine['Year']).value_counts().unstack()"
   ]
  },
  {
   "cell_type": "code",
   "execution_count": 13,
   "metadata": {},
   "outputs": [],
   "source": [
    "data_MDMA['Percent']=data_MDMA['Yes']/(data_MDMA['Yes']+data_MDMA['No'])\n",
    "data_LSD['Percent']=data_LSD['Yes']/(data_LSD['Yes']+data_LSD['No'])\n",
    "data_Cocaine['Percent']=data_Cocaine['Yes']/(data_Cocaine['Yes']+data_Cocaine['No'])\n",
    "data['Percent']=data['Yes']/(data['Yes']+data['No'])"
   ]
  },
  {
   "cell_type": "code",
   "execution_count": null,
   "metadata": {},
   "outputs": [],
   "source": []
  },
  {
   "cell_type": "code",
   "execution_count": 14,
   "metadata": {},
   "outputs": [],
   "source": [
    "data = data.dropna(subset = ['Percent'])\n",
    "data_MDMA = data_MDMA.dropna(subset = ['Percent'])\n",
    "data_LSD = data_LSD.dropna(subset = ['Percent'])\n",
    "data_Cocaine = data_Cocaine.dropna(subset = ['Percent'])\n",
    "\n",
    "\n"
   ]
  },
  {
   "cell_type": "code",
   "execution_count": 15,
   "metadata": {},
   "outputs": [],
   "source": [
    "data['Substance'] = 'Total'"
   ]
  },
  {
   "cell_type": "code",
   "execution_count": 74,
   "metadata": {},
   "outputs": [],
   "source": [
    "data_MDMA['Substance']= \"MDMA\"\n",
    "data_MDMA.drop([2020],inplace = True)"
   ]
  },
  {
   "cell_type": "code",
   "execution_count": 75,
   "metadata": {},
   "outputs": [],
   "source": [
    "data_LSD['Substance'] = 'LSD'\n",
    "data_LSD.drop([2020],inplace = True)"
   ]
  },
  {
   "cell_type": "code",
   "execution_count": 18,
   "metadata": {},
   "outputs": [
    {
     "data": {
      "text/html": [
       "<div>\n",
       "<style scoped>\n",
       "    .dataframe tbody tr th:only-of-type {\n",
       "        vertical-align: middle;\n",
       "    }\n",
       "\n",
       "    .dataframe tbody tr th {\n",
       "        vertical-align: top;\n",
       "    }\n",
       "\n",
       "    .dataframe thead th {\n",
       "        text-align: right;\n",
       "    }\n",
       "</style>\n",
       "<table border=\"1\" class=\"dataframe\">\n",
       "  <thead>\n",
       "    <tr style=\"text-align: right;\">\n",
       "      <th>Match</th>\n",
       "      <th>No</th>\n",
       "      <th>Yes</th>\n",
       "      <th>Percent</th>\n",
       "      <th>Substance</th>\n",
       "    </tr>\n",
       "    <tr>\n",
       "      <th>Year</th>\n",
       "      <th></th>\n",
       "      <th></th>\n",
       "      <th></th>\n",
       "      <th></th>\n",
       "    </tr>\n",
       "  </thead>\n",
       "  <tbody>\n",
       "    <tr>\n",
       "      <td>2016</td>\n",
       "      <td>1.0</td>\n",
       "      <td>11.0</td>\n",
       "      <td>0.916667</td>\n",
       "      <td>Cocaine</td>\n",
       "    </tr>\n",
       "    <tr>\n",
       "      <td>2018</td>\n",
       "      <td>3.0</td>\n",
       "      <td>25.0</td>\n",
       "      <td>0.892857</td>\n",
       "      <td>Cocaine</td>\n",
       "    </tr>\n",
       "    <tr>\n",
       "      <td>2019</td>\n",
       "      <td>2.0</td>\n",
       "      <td>14.0</td>\n",
       "      <td>0.875000</td>\n",
       "      <td>Cocaine</td>\n",
       "    </tr>\n",
       "  </tbody>\n",
       "</table>\n",
       "</div>"
      ],
      "text/plain": [
       "Match   No   Yes   Percent Substance\n",
       "Year                                \n",
       "2016   1.0  11.0  0.916667   Cocaine\n",
       "2018   3.0  25.0  0.892857   Cocaine\n",
       "2019   2.0  14.0  0.875000   Cocaine"
      ]
     },
     "execution_count": 18,
     "metadata": {},
     "output_type": "execute_result"
    }
   ],
   "source": [
    "data_Cocaine['Substance'] = 'Cocaine'\n",
    "data_Cocaine"
   ]
  },
  {
   "cell_type": "code",
   "execution_count": 76,
   "metadata": {},
   "outputs": [],
   "source": [
    "stacked = pd.concat([data_MDMA,data_LSD,data_Cocaine],axis = 0)\n",
    "stacked['Percent'] = stacked['Percent']*100\n"
   ]
  },
  {
   "cell_type": "code",
   "execution_count": 77,
   "metadata": {},
   "outputs": [
    {
     "data": {
      "text/html": [
       "<div>\n",
       "<style scoped>\n",
       "    .dataframe tbody tr th:only-of-type {\n",
       "        vertical-align: middle;\n",
       "    }\n",
       "\n",
       "    .dataframe tbody tr th {\n",
       "        vertical-align: top;\n",
       "    }\n",
       "\n",
       "    .dataframe thead th {\n",
       "        text-align: right;\n",
       "    }\n",
       "</style>\n",
       "<table border=\"1\" class=\"dataframe\">\n",
       "  <thead>\n",
       "    <tr style=\"text-align: right;\">\n",
       "      <th>Match</th>\n",
       "      <th>No</th>\n",
       "      <th>Yes</th>\n",
       "      <th>Percent</th>\n",
       "      <th>Substance</th>\n",
       "    </tr>\n",
       "    <tr>\n",
       "      <th>Year</th>\n",
       "      <th></th>\n",
       "      <th></th>\n",
       "      <th></th>\n",
       "      <th></th>\n",
       "    </tr>\n",
       "  </thead>\n",
       "  <tbody>\n",
       "    <tr>\n",
       "      <td>2014</td>\n",
       "      <td>13.0</td>\n",
       "      <td>10.0</td>\n",
       "      <td>43.478261</td>\n",
       "      <td>MDMA</td>\n",
       "    </tr>\n",
       "    <tr>\n",
       "      <td>2015</td>\n",
       "      <td>90.0</td>\n",
       "      <td>146.0</td>\n",
       "      <td>61.864407</td>\n",
       "      <td>MDMA</td>\n",
       "    </tr>\n",
       "    <tr>\n",
       "      <td>2016</td>\n",
       "      <td>80.0</td>\n",
       "      <td>226.0</td>\n",
       "      <td>73.856209</td>\n",
       "      <td>MDMA</td>\n",
       "    </tr>\n",
       "    <tr>\n",
       "      <td>2017</td>\n",
       "      <td>80.0</td>\n",
       "      <td>422.0</td>\n",
       "      <td>84.063745</td>\n",
       "      <td>MDMA</td>\n",
       "    </tr>\n",
       "    <tr>\n",
       "      <td>2018</td>\n",
       "      <td>92.0</td>\n",
       "      <td>601.0</td>\n",
       "      <td>86.724387</td>\n",
       "      <td>MDMA</td>\n",
       "    </tr>\n",
       "    <tr>\n",
       "      <td>2019</td>\n",
       "      <td>65.0</td>\n",
       "      <td>603.0</td>\n",
       "      <td>90.269461</td>\n",
       "      <td>MDMA</td>\n",
       "    </tr>\n",
       "    <tr>\n",
       "      <td>2015</td>\n",
       "      <td>5.0</td>\n",
       "      <td>15.0</td>\n",
       "      <td>75.000000</td>\n",
       "      <td>LSD</td>\n",
       "    </tr>\n",
       "    <tr>\n",
       "      <td>2016</td>\n",
       "      <td>9.0</td>\n",
       "      <td>24.0</td>\n",
       "      <td>72.727273</td>\n",
       "      <td>LSD</td>\n",
       "    </tr>\n",
       "    <tr>\n",
       "      <td>2017</td>\n",
       "      <td>8.0</td>\n",
       "      <td>16.0</td>\n",
       "      <td>66.666667</td>\n",
       "      <td>LSD</td>\n",
       "    </tr>\n",
       "    <tr>\n",
       "      <td>2018</td>\n",
       "      <td>7.0</td>\n",
       "      <td>30.0</td>\n",
       "      <td>81.081081</td>\n",
       "      <td>LSD</td>\n",
       "    </tr>\n",
       "    <tr>\n",
       "      <td>2019</td>\n",
       "      <td>12.0</td>\n",
       "      <td>53.0</td>\n",
       "      <td>81.538462</td>\n",
       "      <td>LSD</td>\n",
       "    </tr>\n",
       "    <tr>\n",
       "      <td>2016</td>\n",
       "      <td>1.0</td>\n",
       "      <td>11.0</td>\n",
       "      <td>91.666667</td>\n",
       "      <td>Cocaine</td>\n",
       "    </tr>\n",
       "    <tr>\n",
       "      <td>2018</td>\n",
       "      <td>3.0</td>\n",
       "      <td>25.0</td>\n",
       "      <td>89.285714</td>\n",
       "      <td>Cocaine</td>\n",
       "    </tr>\n",
       "    <tr>\n",
       "      <td>2019</td>\n",
       "      <td>2.0</td>\n",
       "      <td>14.0</td>\n",
       "      <td>87.500000</td>\n",
       "      <td>Cocaine</td>\n",
       "    </tr>\n",
       "  </tbody>\n",
       "</table>\n",
       "</div>"
      ],
      "text/plain": [
       "Match    No    Yes    Percent Substance\n",
       "Year                                   \n",
       "2014   13.0   10.0  43.478261      MDMA\n",
       "2015   90.0  146.0  61.864407      MDMA\n",
       "2016   80.0  226.0  73.856209      MDMA\n",
       "2017   80.0  422.0  84.063745      MDMA\n",
       "2018   92.0  601.0  86.724387      MDMA\n",
       "2019   65.0  603.0  90.269461      MDMA\n",
       "2015    5.0   15.0  75.000000       LSD\n",
       "2016    9.0   24.0  72.727273       LSD\n",
       "2017    8.0   16.0  66.666667       LSD\n",
       "2018    7.0   30.0  81.081081       LSD\n",
       "2019   12.0   53.0  81.538462       LSD\n",
       "2016    1.0   11.0  91.666667   Cocaine\n",
       "2018    3.0   25.0  89.285714   Cocaine\n",
       "2019    2.0   14.0  87.500000   Cocaine"
      ]
     },
     "execution_count": 77,
     "metadata": {},
     "output_type": "execute_result"
    }
   ],
   "source": [
    "stacked"
   ]
  },
  {
   "cell_type": "code",
   "execution_count": 78,
   "metadata": {},
   "outputs": [
    {
     "data": {
      "text/plain": [
       "<seaborn.axisgrid.FacetGrid at 0x1a1cfe9410>"
      ]
     },
     "execution_count": 78,
     "metadata": {},
     "output_type": "execute_result"
    },
    {
     "data": {
      "image/png": "[encoded data removed]",
      "text/plain": [
       "<Figure size 435.875x360 with 1 Axes>"
      ]
     },
     "metadata": {
      "needs_background": "light"
     },
     "output_type": "display_data"
    }
   ],
   "source": [
    "\n",
    "plot = sns.catplot(x = list(stacked.index) , y = 'Percent', hue = 'Substance',data = stacked, kind = 'bar',palette = 'colorblind')\n",
    "\n",
    "plot.set_axis_labels(\"\",'Percent')\n",
    "\n"
   ]
  },
  {
   "cell_type": "code",
   "execution_count": null,
   "metadata": {},
   "outputs": [],
   "source": []
  }
 ],
 "metadata": {
  "kernelspec": {
   "display_name": "Python 3",
   "language": "python",
   "name": "python3"
  },
  "language_info": {
   "codemirror_mode": {
    "name": "ipython",
    "version": 3
   },
   "file_extension": ".py",
   "mimetype": "text/x-python",
   "name": "python",
   "nbconvert_exporter": "python",
   "pygments_lexer": "ipython3",
   "version": "3.7.4"
  }
 },
 "nbformat": 4,
 "nbformat_minor": 2
}
