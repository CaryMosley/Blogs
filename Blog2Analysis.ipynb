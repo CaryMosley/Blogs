{
 "cells": [
  {
   "cell_type": "code",
   "execution_count": 95,
   "metadata": {},
   "outputs": [],
   "source": [
    "import pandas as pd\n",
    "import numpy as np\n",
    "import re\n",
    "import seaborn as sns\n",
    "import matplotlib.pyplot as plt\n",
    "\n"
   ]
  },
  {
   "cell_type": "code",
   "execution_count": 96,
   "metadata": {},
   "outputs": [],
   "source": [
    "df = pd.read_csv('DrugData.csv')\n",
    "df= df.dropna(subset = ['Sold As'])\n",
    "df['Sold As'] = df['Sold As'].apply(lambda x: x.replace('MDMA / Ecstasy','MDMA'))\n",
    "df['Sold As'] = df['Sold As'].apply(lambda x: x.replace('Molly / Ecstasy','MDMA'))\n",
    "df['Sold As'] = df['Sold As'].apply(lambda x: x.replace('Molly','MDMA'))\n",
    "df['Sold As'] = df['Sold As'].apply(lambda x: x.replace('Ecstasy','MDMA'))\n",
    "df['Sold As'] = df['Sold As'].apply(lambda x: x.replace('MDMA / MDMA','MDMA'))\n",
    "df['Year']=df['Date Published'].apply(lambda x: x[-4:])"
   ]
  },
  {
   "cell_type": "code",
   "execution_count": 97,
   "metadata": {},
   "outputs": [],
   "source": [
    "df['Year'] = df['Year'].astype(int)"
   ]
  },
  {
   "cell_type": "code",
   "execution_count": 98,
   "metadata": {},
   "outputs": [
    {
     "data": {
      "text/plain": [
       "1       2020\n",
       "2       2020\n",
       "3       2020\n",
       "4       2020\n",
       "5       2020\n",
       "        ... \n",
       "4895    2014\n",
       "4938    2014\n",
       "5543    2013\n",
       "5851    2012\n",
       "6311    2010\n",
       "Name: Year, Length: 4532, dtype: int64"
      ]
     },
     "execution_count": 98,
     "metadata": {},
     "output_type": "execute_result"
    }
   ],
   "source": [
    "df['Year']"
   ]
  },
  {
   "cell_type": "code",
   "execution_count": null,
   "metadata": {},
   "outputs": [],
   "source": []
  },
  {
   "cell_type": "code",
   "execution_count": 99,
   "metadata": {},
   "outputs": [
    {
     "data": {
      "text/plain": [
       "MDMA                                    2557\n",
       "Not Specified                            193\n",
       "LSD                                      188\n",
       "Cocaine                                   90\n",
       "Alprazolam                                86\n",
       "                                        ... \n",
       "Watson 853 (Hydrocodone/APAP 10-325)       1\n",
       "MDMA crystals                              1\n",
       "2C-B-FLY                                   1\n",
       "Alpha-PHP                                  1\n",
       "MDMA with acid                             1\n",
       "Name: Sold As, Length: 535, dtype: int64"
      ]
     },
     "execution_count": 99,
     "metadata": {},
     "output_type": "execute_result"
    }
   ],
   "source": [
    "df['Sold As'].value_counts()"
   ]
  },
  {
   "cell_type": "code",
   "execution_count": 100,
   "metadata": {},
   "outputs": [],
   "source": [
    "df_MDMA = df.loc[df['Sold As']=='MDMA']\n",
    "df_LSD = df.loc[df['Sold As']=='LSD']\n",
    "df_Cocaine = df.loc[df['Sold As']=='Cocaine']"
   ]
  },
  {
   "cell_type": "code",
   "execution_count": 101,
   "metadata": {},
   "outputs": [
    {
     "data": {
      "text/plain": [
       "(2557, 9)"
      ]
     },
     "execution_count": 101,
     "metadata": {},
     "output_type": "execute_result"
    }
   ],
   "source": [
    "df_MDMA.shape"
   ]
  },
  {
   "cell_type": "code",
   "execution_count": 102,
   "metadata": {},
   "outputs": [
    {
     "name": "stderr",
     "output_type": "stream",
     "text": [
      "/Users/carymosley/opt/anaconda3/lib/python3.7/site-packages/ipykernel_launcher.py:1: SettingWithCopyWarning: \n",
      "A value is trying to be set on a copy of a slice from a DataFrame.\n",
      "Try using .loc[row_indexer,col_indexer] = value instead\n",
      "\n",
      "See the caveats in the documentation: http://pandas.pydata.org/pandas-docs/stable/user_guide/indexing.html#returning-a-view-versus-a-copy\n",
      "  \"\"\"Entry point for launching an IPython kernel.\n",
      "/Users/carymosley/opt/anaconda3/lib/python3.7/site-packages/ipykernel_launcher.py:3: SettingWithCopyWarning: \n",
      "A value is trying to be set on a copy of a slice from a DataFrame.\n",
      "Try using .loc[row_indexer,col_indexer] = value instead\n",
      "\n",
      "See the caveats in the documentation: http://pandas.pydata.org/pandas-docs/stable/user_guide/indexing.html#returning-a-view-versus-a-copy\n",
      "  This is separate from the ipykernel package so we can avoid doing imports until\n",
      "/Users/carymosley/opt/anaconda3/lib/python3.7/site-packages/ipykernel_launcher.py:4: SettingWithCopyWarning: \n",
      "A value is trying to be set on a copy of a slice from a DataFrame.\n",
      "Try using .loc[row_indexer,col_indexer] = value instead\n",
      "\n",
      "See the caveats in the documentation: http://pandas.pydata.org/pandas-docs/stable/user_guide/indexing.html#returning-a-view-versus-a-copy\n",
      "  after removing the cwd from sys.path.\n"
     ]
    }
   ],
   "source": [
    "df_MDMA['Match'] = np.where(df_MDMA['Sold As']==df_MDMA['Substance'], 'Yes', 'No')\n",
    "df['Match'] = np.where(df['Sold As']==df['Substance'], 'Yes', 'No')\n",
    "df_LSD['Match'] = np.where(df_LSD['Sold As']==df_LSD['Substance'], 'Yes', 'No')\n",
    "df_Cocaine['Match'] = np.where(df_Cocaine['Sold As']==df_Cocaine['Substance'], 'Yes', 'No')"
   ]
  },
  {
   "cell_type": "code",
   "execution_count": 103,
   "metadata": {},
   "outputs": [
    {
     "data": {
      "text/plain": [
       "Year  Match\n",
       "2014  No        13\n",
       "      Yes       10\n",
       "2015  Yes      146\n",
       "      No        90\n",
       "2016  Yes      226\n",
       "      No        80\n",
       "2017  Yes      422\n",
       "      No        80\n",
       "2018  Yes      601\n",
       "      No        92\n",
       "2019  Yes      603\n",
       "      No        65\n",
       "2020  Yes      122\n",
       "      No         7\n",
       "Name: Match, dtype: int64"
      ]
     },
     "execution_count": 103,
     "metadata": {},
     "output_type": "execute_result"
    }
   ],
   "source": [
    "df_MDMA['Match'].groupby(df_MDMA['Year']).value_counts()"
   ]
  },
  {
   "cell_type": "code",
   "execution_count": 104,
   "metadata": {},
   "outputs": [
    {
     "data": {
      "text/plain": [
       "Year  Match\n",
       "2015  Yes      15\n",
       "      No        5\n",
       "2016  Yes      24\n",
       "      No        9\n",
       "2017  Yes      16\n",
       "      No        8\n",
       "2018  Yes      30\n",
       "      No        7\n",
       "2019  Yes      53\n",
       "      No       12\n",
       "2020  No        6\n",
       "      Yes       3\n",
       "Name: Match, dtype: int64"
      ]
     },
     "execution_count": 104,
     "metadata": {},
     "output_type": "execute_result"
    }
   ],
   "source": [
    "df_LSD['Match'].groupby(df_LSD['Year']).value_counts()"
   ]
  },
  {
   "cell_type": "code",
   "execution_count": 105,
   "metadata": {},
   "outputs": [
    {
     "data": {
      "text/plain": [
       "Year  Match\n",
       "2010  Yes       1\n",
       "2012  Yes       1\n",
       "2015  Yes      13\n",
       "2016  Yes      11\n",
       "      No        1\n",
       "2017  Yes      12\n",
       "2018  Yes      25\n",
       "      No        3\n",
       "2019  Yes      14\n",
       "      No        2\n",
       "2020  Yes       7\n",
       "Name: Match, dtype: int64"
      ]
     },
     "execution_count": 105,
     "metadata": {},
     "output_type": "execute_result"
    }
   ],
   "source": [
    "df_Cocaine['Match'].groupby(df_Cocaine['Year']).value_counts()"
   ]
  },
  {
   "cell_type": "code",
   "execution_count": 106,
   "metadata": {},
   "outputs": [],
   "source": [
    "data = df['Match'].groupby(df['Year']).value_counts().unstack()\n",
    "data_MDMA = df_MDMA['Match'].groupby(df_MDMA['Year']).value_counts().unstack()\n",
    "data_LSD = df_LSD['Match'].groupby(df_LSD['Year']).value_counts().unstack()\n",
    "data_Cocaine = df_Cocaine['Match'].groupby(df_Cocaine['Year']).value_counts().unstack()"
   ]
  },
  {
   "cell_type": "code",
   "execution_count": 107,
   "metadata": {},
   "outputs": [],
   "source": [
    "data_MDMA['Percent']=data_MDMA['Yes']/(data_MDMA['Yes']+data_MDMA['No'])\n",
    "data_LSD['Percent']=data_LSD['Yes']/(data_LSD['Yes']+data_LSD['No'])\n",
    "data_Cocaine['Percent']=data_Cocaine['Yes']/(data_Cocaine['Yes']+data_Cocaine['No'])\n",
    "data['Percent']=data['Yes']/(data['Yes']+data['No'])"
   ]
  },
  {
   "cell_type": "code",
   "execution_count": null,
   "metadata": {},
   "outputs": [],
   "source": []
  },
  {
   "cell_type": "code",
   "execution_count": 108,
   "metadata": {},
   "outputs": [],
   "source": [
    "data = data.dropna(subset = ['Percent'])\n",
    "data_MDMA = data_MDMA.dropna(subset = ['Percent'])\n",
    "data_LSD = data_LSD.dropna(subset = ['Percent'])\n",
    "data_Cocaine = data_Cocaine.dropna(subset = ['Percent'])\n",
    "\n",
    "\n"
   ]
  },
  {
   "cell_type": "code",
   "execution_count": 124,
   "metadata": {},
   "outputs": [],
   "source": [
    "data['Substance'] = 'Total'"
   ]
  },
  {
   "cell_type": "code",
   "execution_count": 110,
   "metadata": {},
   "outputs": [
    {
     "data": {
      "text/html": [
       "<div>\n",
       "<style scoped>\n",
       "    .dataframe tbody tr th:only-of-type {\n",
       "        vertical-align: middle;\n",
       "    }\n",
       "\n",
       "    .dataframe tbody tr th {\n",
       "        vertical-align: top;\n",
       "    }\n",
       "\n",
       "    .dataframe thead th {\n",
       "        text-align: right;\n",
       "    }\n",
       "</style>\n",
       "<table border=\"1\" class=\"dataframe\">\n",
       "  <thead>\n",
       "    <tr style=\"text-align: right;\">\n",
       "      <th>Match</th>\n",
       "      <th>No</th>\n",
       "      <th>Yes</th>\n",
       "      <th>Percent</th>\n",
       "      <th>Substance</th>\n",
       "    </tr>\n",
       "    <tr>\n",
       "      <th>Year</th>\n",
       "      <th></th>\n",
       "      <th></th>\n",
       "      <th></th>\n",
       "      <th></th>\n",
       "    </tr>\n",
       "  </thead>\n",
       "  <tbody>\n",
       "    <tr>\n",
       "      <td>2014</td>\n",
       "      <td>13</td>\n",
       "      <td>10</td>\n",
       "      <td>0.434783</td>\n",
       "      <td>MDMA</td>\n",
       "    </tr>\n",
       "    <tr>\n",
       "      <td>2015</td>\n",
       "      <td>90</td>\n",
       "      <td>146</td>\n",
       "      <td>0.618644</td>\n",
       "      <td>MDMA</td>\n",
       "    </tr>\n",
       "    <tr>\n",
       "      <td>2016</td>\n",
       "      <td>80</td>\n",
       "      <td>226</td>\n",
       "      <td>0.738562</td>\n",
       "      <td>MDMA</td>\n",
       "    </tr>\n",
       "    <tr>\n",
       "      <td>2017</td>\n",
       "      <td>80</td>\n",
       "      <td>422</td>\n",
       "      <td>0.840637</td>\n",
       "      <td>MDMA</td>\n",
       "    </tr>\n",
       "    <tr>\n",
       "      <td>2018</td>\n",
       "      <td>92</td>\n",
       "      <td>601</td>\n",
       "      <td>0.867244</td>\n",
       "      <td>MDMA</td>\n",
       "    </tr>\n",
       "    <tr>\n",
       "      <td>2019</td>\n",
       "      <td>65</td>\n",
       "      <td>603</td>\n",
       "      <td>0.902695</td>\n",
       "      <td>MDMA</td>\n",
       "    </tr>\n",
       "    <tr>\n",
       "      <td>2020</td>\n",
       "      <td>7</td>\n",
       "      <td>122</td>\n",
       "      <td>0.945736</td>\n",
       "      <td>MDMA</td>\n",
       "    </tr>\n",
       "  </tbody>\n",
       "</table>\n",
       "</div>"
      ],
      "text/plain": [
       "Match  No  Yes   Percent Substance\n",
       "Year                              \n",
       "2014   13   10  0.434783      MDMA\n",
       "2015   90  146  0.618644      MDMA\n",
       "2016   80  226  0.738562      MDMA\n",
       "2017   80  422  0.840637      MDMA\n",
       "2018   92  601  0.867244      MDMA\n",
       "2019   65  603  0.902695      MDMA\n",
       "2020    7  122  0.945736      MDMA"
      ]
     },
     "execution_count": 110,
     "metadata": {},
     "output_type": "execute_result"
    }
   ],
   "source": [
    "data_MDMA['Substance']= \"MDMA\"\n",
    "data_MDMA"
   ]
  },
  {
   "cell_type": "code",
   "execution_count": 111,
   "metadata": {},
   "outputs": [
    {
     "data": {
      "text/html": [
       "<div>\n",
       "<style scoped>\n",
       "    .dataframe tbody tr th:only-of-type {\n",
       "        vertical-align: middle;\n",
       "    }\n",
       "\n",
       "    .dataframe tbody tr th {\n",
       "        vertical-align: top;\n",
       "    }\n",
       "\n",
       "    .dataframe thead th {\n",
       "        text-align: right;\n",
       "    }\n",
       "</style>\n",
       "<table border=\"1\" class=\"dataframe\">\n",
       "  <thead>\n",
       "    <tr style=\"text-align: right;\">\n",
       "      <th>Match</th>\n",
       "      <th>No</th>\n",
       "      <th>Yes</th>\n",
       "      <th>Percent</th>\n",
       "      <th>Substance</th>\n",
       "    </tr>\n",
       "    <tr>\n",
       "      <th>Year</th>\n",
       "      <th></th>\n",
       "      <th></th>\n",
       "      <th></th>\n",
       "      <th></th>\n",
       "    </tr>\n",
       "  </thead>\n",
       "  <tbody>\n",
       "    <tr>\n",
       "      <td>2015</td>\n",
       "      <td>5</td>\n",
       "      <td>15</td>\n",
       "      <td>0.750000</td>\n",
       "      <td>LSD</td>\n",
       "    </tr>\n",
       "    <tr>\n",
       "      <td>2016</td>\n",
       "      <td>9</td>\n",
       "      <td>24</td>\n",
       "      <td>0.727273</td>\n",
       "      <td>LSD</td>\n",
       "    </tr>\n",
       "    <tr>\n",
       "      <td>2017</td>\n",
       "      <td>8</td>\n",
       "      <td>16</td>\n",
       "      <td>0.666667</td>\n",
       "      <td>LSD</td>\n",
       "    </tr>\n",
       "    <tr>\n",
       "      <td>2018</td>\n",
       "      <td>7</td>\n",
       "      <td>30</td>\n",
       "      <td>0.810811</td>\n",
       "      <td>LSD</td>\n",
       "    </tr>\n",
       "    <tr>\n",
       "      <td>2019</td>\n",
       "      <td>12</td>\n",
       "      <td>53</td>\n",
       "      <td>0.815385</td>\n",
       "      <td>LSD</td>\n",
       "    </tr>\n",
       "    <tr>\n",
       "      <td>2020</td>\n",
       "      <td>6</td>\n",
       "      <td>3</td>\n",
       "      <td>0.333333</td>\n",
       "      <td>LSD</td>\n",
       "    </tr>\n",
       "  </tbody>\n",
       "</table>\n",
       "</div>"
      ],
      "text/plain": [
       "Match  No  Yes   Percent Substance\n",
       "Year                              \n",
       "2015    5   15  0.750000       LSD\n",
       "2016    9   24  0.727273       LSD\n",
       "2017    8   16  0.666667       LSD\n",
       "2018    7   30  0.810811       LSD\n",
       "2019   12   53  0.815385       LSD\n",
       "2020    6    3  0.333333       LSD"
      ]
     },
     "execution_count": 111,
     "metadata": {},
     "output_type": "execute_result"
    }
   ],
   "source": [
    "data_LSD['Substance'] = 'LSD'\n",
    "data_LSD"
   ]
  },
  {
   "cell_type": "code",
   "execution_count": 112,
   "metadata": {},
   "outputs": [
    {
     "data": {
      "text/html": [
       "<div>\n",
       "<style scoped>\n",
       "    .dataframe tbody tr th:only-of-type {\n",
       "        vertical-align: middle;\n",
       "    }\n",
       "\n",
       "    .dataframe tbody tr th {\n",
       "        vertical-align: top;\n",
       "    }\n",
       "\n",
       "    .dataframe thead th {\n",
       "        text-align: right;\n",
       "    }\n",
       "</style>\n",
       "<table border=\"1\" class=\"dataframe\">\n",
       "  <thead>\n",
       "    <tr style=\"text-align: right;\">\n",
       "      <th>Match</th>\n",
       "      <th>No</th>\n",
       "      <th>Yes</th>\n",
       "      <th>Percent</th>\n",
       "      <th>Substance</th>\n",
       "    </tr>\n",
       "    <tr>\n",
       "      <th>Year</th>\n",
       "      <th></th>\n",
       "      <th></th>\n",
       "      <th></th>\n",
       "      <th></th>\n",
       "    </tr>\n",
       "  </thead>\n",
       "  <tbody>\n",
       "    <tr>\n",
       "      <td>2016</td>\n",
       "      <td>1.0</td>\n",
       "      <td>11.0</td>\n",
       "      <td>0.916667</td>\n",
       "      <td>Cocaine</td>\n",
       "    </tr>\n",
       "    <tr>\n",
       "      <td>2018</td>\n",
       "      <td>3.0</td>\n",
       "      <td>25.0</td>\n",
       "      <td>0.892857</td>\n",
       "      <td>Cocaine</td>\n",
       "    </tr>\n",
       "    <tr>\n",
       "      <td>2019</td>\n",
       "      <td>2.0</td>\n",
       "      <td>14.0</td>\n",
       "      <td>0.875000</td>\n",
       "      <td>Cocaine</td>\n",
       "    </tr>\n",
       "  </tbody>\n",
       "</table>\n",
       "</div>"
      ],
      "text/plain": [
       "Match   No   Yes   Percent Substance\n",
       "Year                                \n",
       "2016   1.0  11.0  0.916667   Cocaine\n",
       "2018   3.0  25.0  0.892857   Cocaine\n",
       "2019   2.0  14.0  0.875000   Cocaine"
      ]
     },
     "execution_count": 112,
     "metadata": {},
     "output_type": "execute_result"
    }
   ],
   "source": [
    "data_Cocaine['Substance'] = 'Cocaine'\n",
    "data_Cocaine"
   ]
  },
  {
   "cell_type": "code",
   "execution_count": 125,
   "metadata": {},
   "outputs": [],
   "source": [
    "stacked = pd.concat([data,data_MDMA,data_LSD,data_Cocaine],axis = 0)"
   ]
  },
  {
   "cell_type": "code",
   "execution_count": null,
   "metadata": {},
   "outputs": [],
   "source": []
  },
  {
   "cell_type": "code",
   "execution_count": 126,
   "metadata": {},
   "outputs": [
    {
     "data": {
      "text/plain": [
       "<seaborn.axisgrid.FacetGrid at 0x1a192f5d10>"
      ]
     },
     "execution_count": 126,
     "metadata": {},
     "output_type": "execute_result"
    },
    {
     "data": {
      "image/png": "[encoded data removed]",
      "text/plain": [
       "<Figure size 435.875x360 with 1 Axes>"
      ]
     },
     "metadata": {
      "needs_background": "light"
     },
     "output_type": "display_data"
    }
   ],
   "source": [
    "sns.catplot(x = stacked.index , y = 'Percent', hue = 'Substance',data = stacked, kind = 'bar')"
   ]
  },
  {
   "cell_type": "code",
   "execution_count": null,
   "metadata": {},
   "outputs": [],
   "source": []
  }
 ],
 "metadata": {
  "kernelspec": {
   "display_name": "Python 3",
   "language": "python",
   "name": "python3"
  },
  "language_info": {
   "codemirror_mode": {
    "name": "ipython",
    "version": 3
   },
   "file_extension": ".py",
   "mimetype": "text/x-python",
   "name": "python",
   "nbconvert_exporter": "python",
   "pygments_lexer": "ipython3",
   "version": "3.7.4"
  }
 },
 "nbformat": 4,
 "nbformat_minor": 2
}
