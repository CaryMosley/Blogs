{
 "cells": [
  {
   "cell_type": "code",
   "execution_count": 1,
   "metadata": {},
   "outputs": [],
   "source": [
    "import pandas as pd\n",
    "import numpy as np\n",
    "import re\n",
    "import lxml\n",
    "import seaborn as sns\n",
    "import json\n",
    "import requests\n",
    "\n",
    "from bs4 import BeautifulSoup\n",
    "from requests import get"
   ]
  },
  {
   "cell_type": "code",
   "execution_count": 140,
   "metadata": {},
   "outputs": [],
   "source": [
    "urls = []\n",
    "url_range = range(0,8200,200)\n",
    "for i in url_range:\n",
    "    urls.append(\"https://www.ecstasydata.org/index.php?sort=DatePublishedU+desc&start=\" + str(i) + \"&search_field=-&m1=-1&m2=-1&datefield=tested&max=200\")\n",
    "\n",
    "name = []\n",
    "substance = []\n",
    "amounts = []\n",
    "soldas = []\n",
    "date_pub = []\n",
    "date_tested = []\n",
    "locations = []\n",
    "sample_size = []\n",
    "t = 0"
   ]
  },
  {
   "cell_type": "code",
   "execution_count": 141,
   "metadata": {},
   "outputs": [],
   "source": [
    "for url in urls:\n",
    "    page = get(url)\n",
    "    soup = BeautifulSoup(page.content, 'lxml')\n",
    "    rows = soup.findAll('tr')\n",
    "\n",
    "    i = 0\n",
    "    r = 0\n",
    "    for row in rows:\n",
    "        j = 0\n",
    "        if i > 2:\n",
    "            i=3\n",
    "        else:\n",
    "            for element in row.find_all('a'):\n",
    "                if j == 1:\n",
    "                    if r == 0:\n",
    "                        temp = (str(element))\n",
    "                        name.append(temp.split('>')[1].split('<')[0])\n",
    "                        r=1\n",
    "                        break\n",
    "                    else:\n",
    "                        temp = (str(element))\n",
    "                        name.append(temp.split('>')[1].split('<')[0])\n",
    "                        break\n",
    "                else:\n",
    "                    j = j + 1\n",
    "            i = 1\n",
    "            k = 1\n",
    "            for element in row.find_all('td'):\n",
    "                if k == 2:\n",
    "                    try:         \n",
    "                        temp2 = str(element.find_all('p'))\n",
    "                        soldas.append(temp2.split('Sold as: ')[1].split('</')[0])\n",
    "                    except:\n",
    "                        soldas.append('NA')\n",
    "       \n",
    "                elif k == 3:\n",
    "                    try:\n",
    "                        temp3 = str(element.find(class_= 'Substance'))\n",
    "                        substance.append(temp3.split('<li>')[1].split('</li')[0])\n",
    "                    except:\n",
    "                        substance.append('NA')\n",
    "                elif k == 4:\n",
    "                    try:\n",
    "                        temp4 = str(row.find(class_= 'Amounts'))\n",
    "                        amounts.append(temp4.split('<li>')[1].split('\\xa0')[0])\n",
    "                    except:\n",
    "                        amounts.append('NA')\n",
    "        \n",
    "                elif k ==5:\n",
    "                    try:\n",
    "                        temp5 = str(element)\n",
    "                        date_pub.append(temp5.split('<td>')[1].split('</')[0])\n",
    "                    except:\n",
    "                        date_pub.append('NA')\n",
    "       \n",
    "                elif k == 6:\n",
    "                    try:\n",
    "                        temp6 = str(element)\n",
    "                        date_tested.append(temp6.split('<td>')[1].split('</')[0])\n",
    "                    except:\n",
    "                        date_tested.append('NA')\n",
    "        \n",
    "                elif k == 7:\n",
    "                    try:\n",
    "                        temp7 = str(element)\n",
    "                        locations.append(temp7.split('<td>')[1].split('</')[0])\n",
    "                    except:\n",
    "                        locations.append('NA')\n",
    "       \n",
    "                elif k == 8:\n",
    "                    try:\n",
    "                        temp8 = str(element)\n",
    "                        sample_size.append(temp8.split('<td>')[1].split('</')[0])\n",
    "                    except:\n",
    "                        sample_size.append('NA')\n",
    "                k = k +1\n",
    "        \n",
    "        \n",
    "                \n",
    "    name.pop(t)\n",
    "    soldas.pop(t)\n",
    "    soldas.pop(t+1)\n",
    "    t = t + 200"
   ]
  },
  {
   "cell_type": "code",
   "execution_count": 142,
   "metadata": {},
   "outputs": [],
   "source": [
    "locations = list(map(lambda x: x.replace('\\n',''),locations))"
   ]
  },
  {
   "cell_type": "code",
   "execution_count": null,
   "metadata": {},
   "outputs": [],
   "source": []
  },
  {
   "cell_type": "code",
   "execution_count": null,
   "metadata": {},
   "outputs": [],
   "source": []
  },
  {
   "cell_type": "code",
   "execution_count": 143,
   "metadata": {},
   "outputs": [],
   "source": [
    "column_names = ['Name','Substance','Amount','Sold As','Date Published','Date Tested','Location', \"Size\"] \n",
    "df = pd.DataFrame(list(zip(name,substance,amounts,soldas,date_pub,date_tested,locations,sample_size)),columns = column_names)\n",
    "df.to_csv('DrugData.csv', index=False)"
   ]
  },
  {
   "cell_type": "code",
   "execution_count": null,
   "metadata": {},
   "outputs": [],
   "source": []
  },
  {
   "cell_type": "code",
   "execution_count": null,
   "metadata": {},
   "outputs": [],
   "source": [
    "\n",
    "    \n",
    "    "
   ]
  },
  {
   "cell_type": "code",
   "execution_count": null,
   "metadata": {},
   "outputs": [],
   "source": []
  },
  {
   "cell_type": "markdown",
   "metadata": {},
   "source": [
    "sample_size"
   ]
  },
  {
   "cell_type": "code",
   "execution_count": null,
   "metadata": {},
   "outputs": [],
   "source": []
  },
  {
   "cell_type": "code",
   "execution_count": null,
   "metadata": {},
   "outputs": [],
   "source": []
  }
 ],
 "metadata": {
  "kernelspec": {
   "display_name": "Python 3",
   "language": "python",
   "name": "python3"
  },
  "language_info": {
   "codemirror_mode": {
    "name": "ipython",
    "version": 3
   },
   "file_extension": ".py",
   "mimetype": "text/x-python",
   "name": "python",
   "nbconvert_exporter": "python",
   "pygments_lexer": "ipython3",
   "version": "3.7.4"
  }
 },
 "nbformat": 4,
 "nbformat_minor": 2
}
